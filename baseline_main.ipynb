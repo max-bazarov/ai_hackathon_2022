{
  "cells": [
    {
      "cell_type": "code",
      "execution_count": 877,
      "metadata": {
        "id": "VMrS9_7vdz8j"
      },
      "outputs": [],
      "source": [
        "%%capture\n",
        "import numpy as np\n",
        "import pandas as pd\n",
        "import re\n",
        "import random\n",
        "!pip install pymorphy2\n",
        "import pymorphy2\n",
        "import dill\n",
        "import os\n",
        "\n",
        "import matplotlib.pyplot as plt\n",
        "import matplotlib.lines as lines\n",
        "import matplotlib.text as text\n",
        "import matplotlib.cm as cm\n",
        "\n",
        "from sklearn.feature_extraction.text import TfidfVectorizer\n",
        "from sklearn.metrics import classification_report, confusion_matrix\n",
        "from sklearn.model_selection import train_test_split\n",
        "from sklearn.model_selection import GridSearchCV\n",
        "import sklearn.metrics as metrics\n",
        "from sklearn.svm import SVC\n",
        "from sklearn.ensemble import RandomForestClassifier\n",
        "from sklearn.linear_model import LogisticRegression\n",
        "\n",
        "from google.colab import drive\n",
        "drive.mount('/content/drive')\n",
        "# Исправьте путь до папки на вашем гугл диске:\n",
        "gc_path = r\"/content/drive/MyDrive/Хакатон_2022/\""
      ]
    },
    {
      "cell_type": "code",
      "execution_count": 878,
      "metadata": {
        "colab": {
          "base_uri": "https://localhost:8080/"
        },
        "id": "JzZpmjmtSWyp",
        "outputId": "f8d9ad90-ea5b-431e-e5fc-121cf9d06e79"
      },
      "outputs": [
        {
          "output_type": "stream",
          "name": "stdout",
          "text": [
            "Drive already mounted at /content/drive; to attempt to forcibly remount, call drive.mount(\"/content/drive\", force_remount=True).\n"
          ]
        }
      ],
      "source": [
        "from google.colab import drive\n",
        "drive.mount('/content/drive')"
      ]
    },
    {
      "cell_type": "markdown",
      "metadata": {
        "id": "uiwX_rcWx1ww"
      },
      "source": [
        "## Входные тренировочные данные. "
      ]
    },
    {
      "cell_type": "code",
      "execution_count": 879,
      "metadata": {
        "colab": {
          "base_uri": "https://localhost:8080/",
          "height": 419
        },
        "id": "uY5j-xnUyfP_",
        "outputId": "4a4c0d94-0212-4373-84e1-06ae36bad1f3"
      },
      "outputs": [
        {
          "output_type": "execute_result",
          "data": {
            "text/plain": [
              "                                               CONTENT  \\\n",
              "0    Здравствуйте! Есть ли специальности, где добав...   \n",
              "1    Здравствуйте! Задавала вопрос о консультации к...   \n",
              "2    Здравствуйте! Я хотел бы задать вопрос о поряд...   \n",
              "3    Здравствуйте! В 2021 году есть ли набор на спе...   \n",
              "4    Здравствуйте, какое самое большое количество б...   \n",
              "..                                                 ...   \n",
              "962  Здравствуйте! В том году меня отчислили. Мне н...   \n",
              "963  Здравствуйте!Возможен ли перевод на целевое ил...   \n",
              "964  Я родился в России и у меня есть российское гр...   \n",
              "965  Добрый день! Сегодня на сайте ПетрГУ была разм...   \n",
              "966  Здравствуйте! Хотела бы у Вас узнать... У меня...   \n",
              "\n",
              "                            TYPE CLASS  \n",
              "0                  Горячая линия     4  \n",
              "1                  Горячая линия     8  \n",
              "2           Виртуальная приемная     3  \n",
              "3                  Горячая линия     2  \n",
              "4                  Горячая линия     3  \n",
              "..                           ...   ...  \n",
              "962         Виртуальная приемная     8  \n",
              "963         Виртуальная приемная    10  \n",
              "964                Горячая линия     8  \n",
              "965  Обращения в Совет ветеранов     8  \n",
              "966                Горячая линия     3  \n",
              "\n",
              "[967 rows x 3 columns]"
            ],
            "text/html": [
              "\n",
              "  <div id=\"df-06df2583-560b-4913-8dc9-34cb87ef1031\">\n",
              "    <div class=\"colab-df-container\">\n",
              "      <div>\n",
              "<style scoped>\n",
              "    .dataframe tbody tr th:only-of-type {\n",
              "        vertical-align: middle;\n",
              "    }\n",
              "\n",
              "    .dataframe tbody tr th {\n",
              "        vertical-align: top;\n",
              "    }\n",
              "\n",
              "    .dataframe thead th {\n",
              "        text-align: right;\n",
              "    }\n",
              "</style>\n",
              "<table border=\"1\" class=\"dataframe\">\n",
              "  <thead>\n",
              "    <tr style=\"text-align: right;\">\n",
              "      <th></th>\n",
              "      <th>CONTENT</th>\n",
              "      <th>TYPE</th>\n",
              "      <th>CLASS</th>\n",
              "    </tr>\n",
              "  </thead>\n",
              "  <tbody>\n",
              "    <tr>\n",
              "      <th>0</th>\n",
              "      <td>Здравствуйте! Есть ли специальности, где добав...</td>\n",
              "      <td>Горячая линия</td>\n",
              "      <td>4</td>\n",
              "    </tr>\n",
              "    <tr>\n",
              "      <th>1</th>\n",
              "      <td>Здравствуйте! Задавала вопрос о консультации к...</td>\n",
              "      <td>Горячая линия</td>\n",
              "      <td>8</td>\n",
              "    </tr>\n",
              "    <tr>\n",
              "      <th>2</th>\n",
              "      <td>Здравствуйте! Я хотел бы задать вопрос о поряд...</td>\n",
              "      <td>Виртуальная приемная</td>\n",
              "      <td>3</td>\n",
              "    </tr>\n",
              "    <tr>\n",
              "      <th>3</th>\n",
              "      <td>Здравствуйте! В 2021 году есть ли набор на спе...</td>\n",
              "      <td>Горячая линия</td>\n",
              "      <td>2</td>\n",
              "    </tr>\n",
              "    <tr>\n",
              "      <th>4</th>\n",
              "      <td>Здравствуйте, какое самое большое количество б...</td>\n",
              "      <td>Горячая линия</td>\n",
              "      <td>3</td>\n",
              "    </tr>\n",
              "    <tr>\n",
              "      <th>...</th>\n",
              "      <td>...</td>\n",
              "      <td>...</td>\n",
              "      <td>...</td>\n",
              "    </tr>\n",
              "    <tr>\n",
              "      <th>962</th>\n",
              "      <td>Здравствуйте! В том году меня отчислили. Мне н...</td>\n",
              "      <td>Виртуальная приемная</td>\n",
              "      <td>8</td>\n",
              "    </tr>\n",
              "    <tr>\n",
              "      <th>963</th>\n",
              "      <td>Здравствуйте!Возможен ли перевод на целевое ил...</td>\n",
              "      <td>Виртуальная приемная</td>\n",
              "      <td>10</td>\n",
              "    </tr>\n",
              "    <tr>\n",
              "      <th>964</th>\n",
              "      <td>Я родился в России и у меня есть российское гр...</td>\n",
              "      <td>Горячая линия</td>\n",
              "      <td>8</td>\n",
              "    </tr>\n",
              "    <tr>\n",
              "      <th>965</th>\n",
              "      <td>Добрый день! Сегодня на сайте ПетрГУ была разм...</td>\n",
              "      <td>Обращения в Совет ветеранов</td>\n",
              "      <td>8</td>\n",
              "    </tr>\n",
              "    <tr>\n",
              "      <th>966</th>\n",
              "      <td>Здравствуйте! Хотела бы у Вас узнать... У меня...</td>\n",
              "      <td>Горячая линия</td>\n",
              "      <td>3</td>\n",
              "    </tr>\n",
              "  </tbody>\n",
              "</table>\n",
              "<p>967 rows × 3 columns</p>\n",
              "</div>\n",
              "      <button class=\"colab-df-convert\" onclick=\"convertToInteractive('df-06df2583-560b-4913-8dc9-34cb87ef1031')\"\n",
              "              title=\"Convert this dataframe to an interactive table.\"\n",
              "              style=\"display:none;\">\n",
              "        \n",
              "  <svg xmlns=\"http://www.w3.org/2000/svg\" height=\"24px\"viewBox=\"0 0 24 24\"\n",
              "       width=\"24px\">\n",
              "    <path d=\"M0 0h24v24H0V0z\" fill=\"none\"/>\n",
              "    <path d=\"M18.56 5.44l.94 2.06.94-2.06 2.06-.94-2.06-.94-.94-2.06-.94 2.06-2.06.94zm-11 1L8.5 8.5l.94-2.06 2.06-.94-2.06-.94L8.5 2.5l-.94 2.06-2.06.94zm10 10l.94 2.06.94-2.06 2.06-.94-2.06-.94-.94-2.06-.94 2.06-2.06.94z\"/><path d=\"M17.41 7.96l-1.37-1.37c-.4-.4-.92-.59-1.43-.59-.52 0-1.04.2-1.43.59L10.3 9.45l-7.72 7.72c-.78.78-.78 2.05 0 2.83L4 21.41c.39.39.9.59 1.41.59.51 0 1.02-.2 1.41-.59l7.78-7.78 2.81-2.81c.8-.78.8-2.07 0-2.86zM5.41 20L4 18.59l7.72-7.72 1.47 1.35L5.41 20z\"/>\n",
              "  </svg>\n",
              "      </button>\n",
              "      \n",
              "  <style>\n",
              "    .colab-df-container {\n",
              "      display:flex;\n",
              "      flex-wrap:wrap;\n",
              "      gap: 12px;\n",
              "    }\n",
              "\n",
              "    .colab-df-convert {\n",
              "      background-color: #E8F0FE;\n",
              "      border: none;\n",
              "      border-radius: 50%;\n",
              "      cursor: pointer;\n",
              "      display: none;\n",
              "      fill: #1967D2;\n",
              "      height: 32px;\n",
              "      padding: 0 0 0 0;\n",
              "      width: 32px;\n",
              "    }\n",
              "\n",
              "    .colab-df-convert:hover {\n",
              "      background-color: #E2EBFA;\n",
              "      box-shadow: 0px 1px 2px rgba(60, 64, 67, 0.3), 0px 1px 3px 1px rgba(60, 64, 67, 0.15);\n",
              "      fill: #174EA6;\n",
              "    }\n",
              "\n",
              "    [theme=dark] .colab-df-convert {\n",
              "      background-color: #3B4455;\n",
              "      fill: #D2E3FC;\n",
              "    }\n",
              "\n",
              "    [theme=dark] .colab-df-convert:hover {\n",
              "      background-color: #434B5C;\n",
              "      box-shadow: 0px 1px 3px 1px rgba(0, 0, 0, 0.15);\n",
              "      filter: drop-shadow(0px 1px 2px rgba(0, 0, 0, 0.3));\n",
              "      fill: #FFFFFF;\n",
              "    }\n",
              "  </style>\n",
              "\n",
              "      <script>\n",
              "        const buttonEl =\n",
              "          document.querySelector('#df-06df2583-560b-4913-8dc9-34cb87ef1031 button.colab-df-convert');\n",
              "        buttonEl.style.display =\n",
              "          google.colab.kernel.accessAllowed ? 'block' : 'none';\n",
              "\n",
              "        async function convertToInteractive(key) {\n",
              "          const element = document.querySelector('#df-06df2583-560b-4913-8dc9-34cb87ef1031');\n",
              "          const dataTable =\n",
              "            await google.colab.kernel.invokeFunction('convertToInteractive',\n",
              "                                                     [key], {});\n",
              "          if (!dataTable) return;\n",
              "\n",
              "          const docLinkHtml = 'Like what you see? Visit the ' +\n",
              "            '<a target=\"_blank\" href=https://colab.research.google.com/notebooks/data_table.ipynb>data table notebook</a>'\n",
              "            + ' to learn more about interactive tables.';\n",
              "          element.innerHTML = '';\n",
              "          dataTable['output_type'] = 'display_data';\n",
              "          await google.colab.output.renderOutput(dataTable, element);\n",
              "          const docLink = document.createElement('div');\n",
              "          docLink.innerHTML = docLinkHtml;\n",
              "          element.appendChild(docLink);\n",
              "        }\n",
              "      </script>\n",
              "    </div>\n",
              "  </div>\n",
              "  "
            ]
          },
          "metadata": {},
          "execution_count": 879
        }
      ],
      "source": [
        "df = pd.read_excel(gc_path+'data_train_1000.xlsx')\n",
        "num_classes = 15\n",
        "class_names = ['Сроки','Документы','Места','Проходной и допустимый балл','Достижения','Льготы','Общежития','Оплата','Другие вопросы','Аспирантура','Перевод','Ошибки','Забрать заявление','Магистратура','Очно-заочное и зачное']\n",
        "df"
      ]
    },
    {
      "cell_type": "code",
      "execution_count": 880,
      "metadata": {
        "id": "u_65CaJPeGEW"
      },
      "outputs": [],
      "source": [
        "stop_words_greetings = ['спасибо','подскажите','расскажите','скажите','объясните','пожалуйста', 'здравствуйте','здравствуйте!','добрый день','до свидания', 'доброго времени суток', 'доброго дня', 'hello', 'С уважением']\n",
        "cls_dic = {1:['Верный класс'],\n",
        "           0:['Неверный класс']}"
      ]
    },
    {
      "cell_type": "markdown",
      "metadata": {
        "id": "wemeJVmPyfYR"
      },
      "source": [
        "## Преобразование меток классов, например, из 2 5 в 0 0 1 0 0 1 0 0 0 0 0 0 0 0 0 "
      ]
    },
    {
      "cell_type": "code",
      "execution_count": 881,
      "metadata": {
        "id": "3JWOmK3CQp_Z"
      },
      "outputs": [],
      "source": [
        "def OHE_labels(df):\n",
        "  temp = []\n",
        "  for cl in df['CLASS']:\n",
        "    new_type = np.array([0]*num_classes)\n",
        "    classes = cl.split(' ')\n",
        "    for i in classes:\n",
        "      new_type[int(i)] = 1\n",
        "    temp.append(new_type)\n",
        "  y = np.array(temp)\n",
        "  y = y.transpose()\n",
        "\n",
        "  for nom, class_name in enumerate(['Сроки','Документы','Места','Проходной и допустимый балл','Достижения','Льготы','Общежития','Оплата','Другие вопросы','Аспирантура','Перевод','Ошибки','Забрать заявление','Магистратура','Очно-заочное и зачное']):\n",
        "    df[class_name] = y[nom]\n",
        "  return df"
      ]
    },
    {
      "cell_type": "code",
      "execution_count": 882,
      "metadata": {
        "id": "EYPrfChooGKN"
      },
      "outputs": [],
      "source": [
        "df = OHE_labels(df)"
      ]
    },
    {
      "cell_type": "markdown",
      "metadata": {
        "id": "cnQRsHDRoDD7"
      },
      "source": [
        "# Подзадача 1. Выбор/Разработка методов предварительной обработки текста\n",
        "## Подготовка данных"
      ]
    },
    {
      "cell_type": "code",
      "execution_count": 883,
      "metadata": {
        "id": "-lX8nRVhoCp7"
      },
      "outputs": [],
      "source": [
        "def re_gr(txt):\n",
        "    '''\n",
        "    Удаление приветсвий и стоп-слов из строки.\n",
        "    '''\n",
        "    for x in stop_words_greetings:\n",
        "        txt = txt.replace(x,'')\n",
        "    return txt\n",
        "\n",
        "def del_punct(txt):\n",
        "    '''\n",
        "    Удаляет знаки препинания и подчеркивания.\n",
        "    '''\n",
        "    res = re.sub(r'[^\\w\\s]',' ',txt)\n",
        "    res = res.replace('_','')\n",
        "    res = res.replace('\\n','')\n",
        "    return res\n",
        "\n",
        "def morphan(word, morph):\n",
        "    '''\n",
        "    Приведение слов в нормальную форму, удаление числительных и ФИО.\n",
        "    '''\n",
        "    word = del_punct(word).strip()\n",
        "    p = morph.parse(word)[0]\n",
        "   \n",
        "    word_new = word    \n",
        "    if (not 'Surn' in p.tag) and (not 'Name' in p.tag) and (not 'Patr' in p.tag) and ('NOUN' in p.tag): \n",
        "        #существительное не ФИО\n",
        "        word_new = p.normal_form\n",
        "     \n",
        "    elif 'Surn' in p.tag:\n",
        "        word_new = 'ФАМИЛИЯ'\n",
        "    elif 'Name' in p.tag:\n",
        "        word_new = 'ИМЯ'\n",
        "    elif 'Patr' in p.tag:\n",
        "        word_new = 'ОТЧЕСТВО'\n",
        "       \n",
        "    elif ('INFN' in p.tag) or ('VERB' in p.tag): #глагол\n",
        "        word_new = p.normal_form\n",
        "                \n",
        "    elif ('ADJF' in p.tag) or ('ADJS' in p.tag) or ('COMP' in p.tag): #прилагательное\n",
        "        word_new = p.normal_form\n",
        "            \n",
        "    elif ('PRTF' in p.tag) or ('PRTS' in p.tag) or ('GRND' in p.tag): #причастие, похоже на глагол\n",
        "        word_new = p.normal_form\n",
        "                \n",
        "    elif ('ADVB' in p.tag) or ('NPRO' in p.tag) or ('PRED' in p.tag) or ('PREP' in p.tag) or ('CONJ' in p.tag) or ('PRCL' in p.tag) or ('INTJ' in p.tag):\n",
        "        # предлоги, местоимения и пр.\n",
        "        word_new = p.normal_form         \n",
        "  \n",
        "    elif ('NUMR' in p.tag) or ('NUMB' in p.tag) or ('intg' in p.tag): # числительные NUMB,intg\n",
        "        word_new = ''\n",
        "        \n",
        "    else:\n",
        "        word_new = word\n",
        "\n",
        "    return word_new\n",
        "\n",
        "def remove2(txt):\n",
        "    '''\n",
        "    :txt - текст\n",
        "    Возвращает слова, в которых не менее 2 символов.\n",
        "    '''\n",
        "    #ПОВЫШЕНИЕ ЭТО ЗЛО!\n",
        "    return ' '.join([x if len(x)>2 else '' for x in txt.split()])\n",
        "\n",
        "def normtext(txt, morph):\n",
        "    '''\n",
        "    Возвращает текст из слов в нормальной форме\n",
        "    '''\n",
        "    return str(' '.join([morphan(x, morph) for x in txt.split()]))\n"
      ]
    },
    {
      "cell_type": "code",
      "execution_count": 884,
      "metadata": {
        "id": "u7sZyMNcrebd"
      },
      "outputs": [],
      "source": [
        "def prepare_dataframe(df):\n",
        "  df['text'] = df['CONTENT'].map(lambda x: x.lower()).map(re_gr)\n",
        "  df['text'] = df.text.map(del_punct)\n",
        "  morph = pymorphy2.MorphAnalyzer()\n",
        "  df['text'] = df.text.map(lambda x: normtext(x, morph))\n",
        "  df['text'] = df.text.map(remove2)\n",
        "  return df\n"
      ]
    },
    {
      "cell_type": "code",
      "execution_count": 885,
      "metadata": {
        "id": "EaXuVqy3phh8"
      },
      "outputs": [],
      "source": [
        "df = prepare_dataframe(df)"
      ]
    },
    {
      "cell_type": "code",
      "execution_count": 885,
      "metadata": {
        "id": "2FqrLQjHfCBk"
      },
      "outputs": [],
      "source": [
        ""
      ]
    },
    {
      "cell_type": "markdown",
      "metadata": {
        "id": "6RUX8V3xqyk2"
      },
      "source": [
        "# Подзадача 2. Выбор/Разработка способа векторизации текста\n",
        "## Tfidf Vectorizer (получение векторного представления)\n"
      ]
    },
    {
      "cell_type": "code",
      "execution_count": 886,
      "metadata": {
        "colab": {
          "base_uri": "https://localhost:8080/"
        },
        "id": "bN6wYRfGpPjV",
        "outputId": "b4a37a27-c360-4037-9140-55928ab5ae8d"
      },
      "outputs": [
        {
          "output_type": "execute_result",
          "data": {
            "text/plain": [
              "TfidfVectorizer()"
            ]
          },
          "metadata": {},
          "execution_count": 886
        }
      ],
      "source": [
        "tfv = TfidfVectorizer()  # Функция получения векторного представления\n",
        "tfv.fit(df.text)"
      ]
    },
    {
      "cell_type": "code",
      "execution_count": 887,
      "metadata": {
        "id": "NSIid69vtw_t"
      },
      "outputs": [],
      "source": [
        "# Функция для нахождения оптимальных значений параметров классификатора:\n",
        "\n",
        "def get_best_classifier(X_train, y_train, classifier, param_grid):\n",
        "  X_train = tfv.transform(X_train)  \n",
        "  clf = GridSearchCV(classifier, param_grid, scoring='f1', n_jobs=-1) #, cv=3)\n",
        "  clf.fit(X_train, y_train)\n",
        "  return clf.best_estimator_"
      ]
    },
    {
      "cell_type": "code",
      "execution_count": 888,
      "metadata": {
        "id": "sdu02gJ3ujvL"
      },
      "outputs": [],
      "source": [
        "def predictor(text, clf, tfv):\n",
        "    '''\n",
        "    Предсказывает класс сообщения\n",
        "    :param text: классифицируемый текс\n",
        "    :param clf: обученный классификатор\n",
        "    :param tfv: обученный векторизатор\n",
        "    '''\n",
        "    X_test = tfv.transform([text])\n",
        "    \n",
        "    pred = clf.predict(X_test)\n",
        "    \n",
        "    return int(pred[0])"
      ]
    },
    {
      "cell_type": "code",
      "execution_count": 889,
      "metadata": {
        "id": "iLG62Wnh1jYp"
      },
      "outputs": [],
      "source": [
        "# Сериализация / десериализция модели\n",
        "def serialize(obj, filename):\n",
        "    '''\n",
        "    Сериализация объекта в файл\n",
        "    '''\n",
        "    output = open(filename, 'wb')\n",
        "    dill.dump(obj, output)\n",
        "    output.close()\n",
        "    return\n",
        " \n",
        "def deserialize(filename):\n",
        "    '''\n",
        "    Десериализация объекта из файла\n",
        "    '''\n",
        "    input = open(filename, 'rb')\n",
        "    obj = dill.load(input)\n",
        "    input.close()\n",
        "    return obj"
      ]
    },
    {
      "cell_type": "markdown",
      "metadata": {
        "id": "yXxhgFQX3UQn"
      },
      "source": [
        "# Классификация"
      ]
    },
    {
      "cell_type": "code",
      "execution_count": 890,
      "metadata": {
        "id": "yCiZnBuE52YR"
      },
      "outputs": [],
      "source": [
        "def get_binary_datasets(df, num):\n",
        "  '''\n",
        "  :param df: Входной DataFrame\n",
        "  :param num: Искомый (верный) класс\n",
        "  :return Функция возвращает новый Binary DataFrame, в котором 1 означает, что сообщение относиться к соотвествующему классу, 0 - иначе\n",
        "  '''\n",
        "  temp_Content = []\n",
        "  temp_Class = []\n",
        "\n",
        "  for i, cl in enumerate(df['CLASS']):\n",
        "    classes_str = cl.split(' ')\n",
        "    classes_int = [int(x) for x in classes_str]\n",
        "    temp_Content.append(df.iloc[i][18])  # 18 - номер столбца с обработанным сообщением\n",
        "    if num in classes_int:\n",
        "      temp_Class.append(1)\n",
        "    else:\n",
        "      temp_Class.append(0)\n",
        "\n",
        "  content = np.array(temp_Content)\n",
        "  classes = np.array(temp_Class)\n",
        "\n",
        "  data = pd.concat([pd.DataFrame(content), pd.DataFrame(classes)], axis=1)\n",
        "  data.columns = ['CONTENT','CLASS']\n",
        "  data.to_excel('output.xlsx')\n",
        "\n",
        "  return data"
      ]
    },
    {
      "cell_type": "markdown",
      "metadata": {
        "id": "yg_SLCINt6t1"
      },
      "source": [
        "## Делим входной набор данных на тренировочные и валидацонные данные"
      ]
    },
    {
      "cell_type": "code",
      "execution_count": 891,
      "metadata": {
        "id": "oEWhEO3SV2Df"
      },
      "outputs": [],
      "source": [
        "X_train, X_valid, y_train_del, y_valid_del = train_test_split(df, df['CLASS'], random_state=42, test_size=0.2) "
      ]
    },
    {
      "cell_type": "code",
      "execution_count": 892,
      "metadata": {
        "id": "_8KZ7ZfYkj29"
      },
      "outputs": [],
      "source": [
        "train_binary_dataframes = []\n",
        "valid_binary_dataframes = []\n",
        "for i in range(num_classes):\n",
        "  train_binary_dataframes.append(get_binary_datasets(X_train,i))\n",
        "  valid_binary_dataframes.append(get_binary_datasets(X_valid,i))"
      ]
    },
    {
      "cell_type": "markdown",
      "metadata": {
        "id": "KhG4AhSx1KFY"
      },
      "source": [
        "# Разработка классификатора сообщений на основе одного метода ML/DL, настройка параметров классификатора\n",
        "## Обучение моделей"
      ]
    },
    {
      "cell_type": "code",
      "execution_count": 893,
      "metadata": {
        "colab": {
          "base_uri": "https://localhost:8080/"
        },
        "id": "9rWUYmZmyNT0",
        "outputId": "9db53c72-3c31-4b83-9fb6-a692f2fb8338"
      },
      "outputs": [
        {
          "output_type": "stream",
          "name": "stdout",
          "text": [
            "Metrics for 0 class\n",
            "                precision    recall  f1-score   support\n",
            "\n",
            "  Верный класс       0.54      0.59      0.57        22\n",
            "Неверный класс       0.95      0.94      0.94       172\n",
            "\n",
            "      accuracy                           0.90       194\n",
            "     macro avg       0.74      0.76      0.75       194\n",
            "  weighted avg       0.90      0.90      0.90       194\n",
            "\n",
            "Metrics for 1 class\n",
            "                precision    recall  f1-score   support\n",
            "\n",
            "  Верный класс       0.42      0.40      0.41        25\n",
            "Неверный класс       0.91      0.92      0.91       169\n",
            "\n",
            "      accuracy                           0.85       194\n",
            "     macro avg       0.66      0.66      0.66       194\n",
            "  weighted avg       0.85      0.85      0.85       194\n",
            "\n",
            "Metrics for 2 class\n",
            "                precision    recall  f1-score   support\n",
            "\n",
            "  Верный класс       0.83      0.56      0.67         9\n",
            "Неверный класс       0.98      0.99      0.99       185\n",
            "\n",
            "      accuracy                           0.97       194\n",
            "     macro avg       0.91      0.78      0.83       194\n",
            "  weighted avg       0.97      0.97      0.97       194\n",
            "\n",
            "Metrics for 3 class\n",
            "                precision    recall  f1-score   support\n",
            "\n",
            "  Верный класс       0.73      0.89      0.80        37\n",
            "Неверный класс       0.97      0.92      0.95       157\n",
            "\n",
            "      accuracy                           0.92       194\n",
            "     macro avg       0.85      0.91      0.88       194\n",
            "  weighted avg       0.93      0.92      0.92       194\n",
            "\n",
            "Metrics for 4 class\n",
            "                precision    recall  f1-score   support\n",
            "\n",
            "  Верный класс       0.62      0.83      0.71         6\n",
            "Неверный класс       0.99      0.98      0.99       188\n",
            "\n",
            "      accuracy                           0.98       194\n",
            "     macro avg       0.81      0.91      0.85       194\n",
            "  weighted avg       0.98      0.98      0.98       194\n",
            "\n"
          ]
        },
        {
          "output_type": "stream",
          "name": "stderr",
          "text": [
            "/usr/local/lib/python3.7/dist-packages/sklearn/metrics/_classification.py:1318: UndefinedMetricWarning: Precision and F-score are ill-defined and being set to 0.0 in labels with no predicted samples. Use `zero_division` parameter to control this behavior.\n",
            "  _warn_prf(average, modifier, msg_start, len(result))\n",
            "/usr/local/lib/python3.7/dist-packages/sklearn/metrics/_classification.py:1318: UndefinedMetricWarning: Precision and F-score are ill-defined and being set to 0.0 in labels with no predicted samples. Use `zero_division` parameter to control this behavior.\n",
            "  _warn_prf(average, modifier, msg_start, len(result))\n",
            "/usr/local/lib/python3.7/dist-packages/sklearn/metrics/_classification.py:1318: UndefinedMetricWarning: Precision and F-score are ill-defined and being set to 0.0 in labels with no predicted samples. Use `zero_division` parameter to control this behavior.\n",
            "  _warn_prf(average, modifier, msg_start, len(result))\n"
          ]
        },
        {
          "output_type": "stream",
          "name": "stdout",
          "text": [
            "Metrics for 5 class\n",
            "                precision    recall  f1-score   support\n",
            "\n",
            "  Верный класс       0.00      0.00      0.00         3\n",
            "Неверный класс       0.98      1.00      0.99       191\n",
            "\n",
            "      accuracy                           0.98       194\n",
            "     macro avg       0.49      0.50      0.50       194\n",
            "  weighted avg       0.97      0.98      0.98       194\n",
            "\n",
            "Metrics for 6 class\n",
            "                precision    recall  f1-score   support\n",
            "\n",
            "  Верный класс       1.00      1.00      1.00         5\n",
            "Неверный класс       1.00      1.00      1.00       189\n",
            "\n",
            "      accuracy                           1.00       194\n",
            "     macro avg       1.00      1.00      1.00       194\n",
            "  weighted avg       1.00      1.00      1.00       194\n",
            "\n",
            "Metrics for 7 class\n",
            "                precision    recall  f1-score   support\n",
            "\n",
            "  Верный класс       0.60      0.43      0.50         7\n",
            "Неверный класс       0.98      0.99      0.98       187\n",
            "\n",
            "      accuracy                           0.97       194\n",
            "     macro avg       0.79      0.71      0.74       194\n",
            "  weighted avg       0.97      0.97      0.97       194\n",
            "\n",
            "Metrics for 8 class\n",
            "                precision    recall  f1-score   support\n",
            "\n",
            "  Верный класс       0.43      0.60      0.50        40\n",
            "Неверный класс       0.88      0.79      0.84       154\n",
            "\n",
            "      accuracy                           0.75       194\n",
            "     macro avg       0.66      0.70      0.67       194\n",
            "  weighted avg       0.79      0.75      0.77       194\n",
            "\n"
          ]
        },
        {
          "output_type": "stream",
          "name": "stderr",
          "text": [
            "/usr/local/lib/python3.7/dist-packages/sklearn/model_selection/_split.py:680: UserWarning: The least populated class in y has only 4 members, which is less than n_splits=5.\n",
            "  UserWarning,\n"
          ]
        },
        {
          "output_type": "stream",
          "name": "stdout",
          "text": [
            "Metrics for 9 class\n",
            "                precision    recall  f1-score   support\n",
            "\n",
            "  Верный класс       1.00      0.50      0.67         2\n",
            "Неверный класс       0.99      1.00      1.00       192\n",
            "\n",
            "      accuracy                           0.99       194\n",
            "     macro avg       1.00      0.75      0.83       194\n",
            "  weighted avg       0.99      0.99      0.99       194\n",
            "\n",
            "Metrics for 10 class\n",
            "                precision    recall  f1-score   support\n",
            "\n",
            "  Верный класс       0.75      0.82      0.78        11\n",
            "Неверный класс       0.99      0.98      0.99       183\n",
            "\n",
            "      accuracy                           0.97       194\n",
            "     macro avg       0.87      0.90      0.88       194\n",
            "  weighted avg       0.98      0.97      0.97       194\n",
            "\n",
            "Metrics for 11 class\n",
            "                precision    recall  f1-score   support\n",
            "\n",
            "  Верный класс       0.50      0.53      0.51        19\n",
            "Неверный класс       0.95      0.94      0.95       175\n",
            "\n",
            "      accuracy                           0.90       194\n",
            "     macro avg       0.72      0.73      0.73       194\n",
            "  weighted avg       0.90      0.90      0.90       194\n",
            "\n",
            "Metrics for 12 class\n",
            "                precision    recall  f1-score   support\n",
            "\n",
            "  Верный класс       0.29      1.00      0.44         2\n",
            "Неверный класс       1.00      0.97      0.99       192\n",
            "\n",
            "      accuracy                           0.97       194\n",
            "     macro avg       0.64      0.99      0.72       194\n",
            "  weighted avg       0.99      0.97      0.98       194\n",
            "\n",
            "Metrics for 13 class\n",
            "                precision    recall  f1-score   support\n",
            "\n",
            "  Верный класс       0.67      1.00      0.80         2\n",
            "Неверный класс       1.00      0.99      1.00       192\n",
            "\n",
            "      accuracy                           0.99       194\n",
            "     macro avg       0.83      1.00      0.90       194\n",
            "  weighted avg       1.00      0.99      1.00       194\n",
            "\n",
            "Metrics for 14 class\n",
            "                precision    recall  f1-score   support\n",
            "\n",
            "  Верный класс       0.56      0.45      0.50        11\n",
            "Неверный класс       0.97      0.98      0.97       183\n",
            "\n",
            "      accuracy                           0.95       194\n",
            "     macro avg       0.76      0.72      0.74       194\n",
            "  weighted avg       0.94      0.95      0.95       194\n",
            "\n"
          ]
        }
      ],
      "source": [
        "for nom in range(num_classes):\n",
        "  # Задаем классифкатор\n",
        "  # classifier = SVC(max_iter=10000)  # !!! Эксперименты\n",
        "  # Задаем словарь парамтеров с их значениями для перебора\n",
        "  # Находим оптимальный классифкатор (класификтор с оптимальным значением параметров)\n",
        "  classifier = LogisticRegression(class_weight=\"balanced\")#, cache_size=1024)#kernel='sigmoid'), probability=True)  # !!! Эксперименты\n",
        "  # Задаем словарь парамтеров с их значениями для перебора\n",
        "  param_grid = {}#'C': [3., 100.],\n",
        "  #               # 'gamma': ['scale', 'auto', [3., 100.]]\n",
        "  #               # 'degree':[2, 100]\n",
        "  #               'kernel': ['linear', 'poly', 'rbf', 'sigmoid'], #, 'precomputed'] не считает с ним потому что должно быть просчитано заранее?\n",
        "  #               # 'verbose': [False, True],\n",
        "  #               'probability': [False, True],\n",
        "  #               # 'decision_function_shape' works only with ovr\n",
        "  #               # 'cache_size': [100, 4096]\n",
        "  #               # 'tol': [1e-100, 1e-99]\n",
        "                 \n",
        "\n",
        "                \n",
        "  # !!! Эксперименты\n",
        "\n",
        "  clf = get_best_classifier(train_binary_dataframes[nom].CONTENT, train_binary_dataframes[nom].CLASS, classifier, param_grid)\n",
        "  clf_tfv = {'clf':clf,'tfv':tfv}\n",
        "\n",
        "  serialize(clf_tfv, gc_path + f'models/model_{nom}_class.pkl')\n",
        "\n",
        "  # Предсказываем\n",
        "  pred = []\n",
        "  for txt in valid_binary_dataframes[nom].CONTENT: #.values:\n",
        "    pred.append(predictor(txt, clf, tfv))\n",
        "\n",
        "  # Выводим метрики классификации каждого бинарного классификатора\n",
        "  mtrs = metrics.classification_report([cls_dic[x][0] for x in valid_binary_dataframes[nom].CLASS], [cls_dic[x][0] for x in pred])\n",
        "  print(f\"Metrics for {nom} class\")\n",
        "  print(mtrs, end='\\n')\n",
        "  "
      ]
    },
    {
      "cell_type": "code",
      "execution_count": 893,
      "metadata": {
        "id": "pjCc0yICyIqB"
      },
      "outputs": [],
      "source": [
        ""
      ]
    },
    {
      "cell_type": "markdown",
      "metadata": {
        "id": "qbhtGJn55UXH"
      },
      "source": [
        "# Многометочная классификация"
      ]
    },
    {
      "cell_type": "code",
      "execution_count": 894,
      "metadata": {
        "id": "d1AvUbshsLu_"
      },
      "outputs": [],
      "source": [
        "# Т.к. вопрорсов по аспирантуре мало, и в них в основном встречается подстрока 'аспирант', то можно записи проклассифицировать по наличию этой подстроки\n",
        "def find_aspirant(txt):\n",
        "    '''\n",
        "    Возвращает True если в тексте есть слово, начинающееся на 'аспирант'\n",
        "    '''\n",
        "    return 'аспирант' in [x[:8] for x in txt.split()]"
      ]
    },
    {
      "cell_type": "code",
      "execution_count": 895,
      "metadata": {
        "id": "e-Opwp-EXtyU"
      },
      "outputs": [],
      "source": [
        "def find_oplata(txt):\n",
        "    '''\n",
        "    Возвращает True если в тексте есть слово, начинающееся на 'оплат'\n",
        "    '''\n",
        "    return 'оплата' in [x[:6] for x in txt.split()]"
      ]
    },
    {
      "cell_type": "code",
      "execution_count": 896,
      "metadata": {
        "id": "skTWuYfMpuU6"
      },
      "outputs": [],
      "source": [
        "def find_magistr(txt):\n",
        "    '''\n",
        "    Возвращает True если в тексте есть слово, начинающееся на 'магистр'\n",
        "    '''\n",
        "    return 'магистр' in [x[:7] for x in txt.split()]"
      ]
    },
    {
      "cell_type": "code",
      "source": [
        "def find_och(txt):\n",
        "    '''\n",
        "    Возвращает True если в тексте есть слово, начинающееся на 'очн'\n",
        "    '''\n",
        "    return 'очн' in [x[:3] for x in txt.split()]"
      ],
      "metadata": {
        "id": "IDIIe7wxw-YB"
      },
      "execution_count": 897,
      "outputs": []
    },
    {
      "cell_type": "markdown",
      "metadata": {
        "id": "g91ITQ-03ipD"
      },
      "source": [
        "## Возможно так и с другими классами поступить можно (как с классом \"аспирантура\")?"
      ]
    },
    {
      "cell_type": "markdown",
      "metadata": {
        "id": "SeFk6ackIUTD"
      },
      "source": [
        "# Валидация модели"
      ]
    },
    {
      "cell_type": "code",
      "execution_count": 898,
      "metadata": {
        "id": "KEyt8HBD8clb"
      },
      "outputs": [],
      "source": [
        "# Функция, которая предсказывает все метки сообщений\n",
        "def pred_labels(messages=None):\n",
        "  preds = []\n",
        "  txts = {}\n",
        "  for txt in messages:\n",
        "    pred = [0,0,0,0,0,0,0,0,0,0,0,0,0,0,0]\n",
        "    skip = []\n",
        "    if find_aspirant(txt):\n",
        "      skip.append(9)\n",
        "      pred[9] = 1\n",
        "    # if find_oplata(txt):\n",
        "    #   skip.append(7)\n",
        "    #   pred[7] = 1\n",
        "    # if find_magistr(txt):\n",
        "    #   skip.append(13)\n",
        "    #   pred[13] = 1\n",
        "    # if find_och(txt):\n",
        "    #   skip.append(14)\n",
        "    #   pred[14] = 1\n",
        "    for i in range(num_classes):\n",
        "      if i in skip:\n",
        "        continue\n",
        "      clf_tfv = deserialize(gc_path + f'models/model_{i}_class.pkl')\n",
        "      if predictor(txt, clf_tfv['clf'], clf_tfv['tfv']) == 1:\n",
        "        pred[i] = 1\n",
        "      else:\n",
        "        pred[i] = 0\n",
        "    preds.append(pred)\n",
        "  return preds"
      ]
    },
    {
      "cell_type": "code",
      "execution_count": 899,
      "metadata": {
        "id": "BKxrBfLY7Of5"
      },
      "outputs": [],
      "source": [
        "# Предсказываем все метки сообщений\n",
        "preds = pred_labels(messages=X_valid.text)"
      ]
    },
    {
      "cell_type": "code",
      "execution_count": 900,
      "metadata": {
        "id": "zLptzYX55ayP"
      },
      "outputs": [],
      "source": [
        "true_labels = X_valid[class_names].values"
      ]
    },
    {
      "cell_type": "markdown",
      "metadata": {
        "id": "_gsLtEvS2CoA"
      },
      "source": [
        "## Матрицы ошибок. Раскомментировать при необходимости:"
      ]
    },
    {
      "cell_type": "code",
      "execution_count": 901,
      "metadata": {
        "id": "o1hcryJMFeEe"
      },
      "outputs": [],
      "source": [
        "# from sklearn.metrics import multilabel_confusion_matrix\n",
        "# vis_arr = multilabel_confusion_matrix(true_labels, preds)\n",
        "\n",
        "# labels = [\"\".join(\"\" + str(i)) for i in range(1, 16)]\n",
        "\n",
        "# import pandas as pd\n",
        "# import matplotlib.pyplot as plt\n",
        "# import seaborn as sns\n",
        "# vis_arr[7]"
      ]
    },
    {
      "cell_type": "code",
      "execution_count": 902,
      "metadata": {
        "id": "Wsl2zeYUP5iE"
      },
      "outputs": [],
      "source": [
        "# from sklearn.metrics import multilabel_confusion_matrix\n",
        "# vis_arr = multilabel_confusion_matrix(true_labels, preds)\n",
        "\n",
        "# labels = [\"\".join(\"\" + str(i)) for i in range(1, 16)]\n",
        "\n",
        "# import pandas as pd\n",
        "# import matplotlib.pyplot as plt\n",
        "# import seaborn as sns\n",
        "\n",
        "\n",
        "# def print_confusion_matrix(confusion_matrix, axes, class_label, class_names, fontsize=18):\n",
        "\n",
        "#     df_cm = pd.DataFrame(\n",
        "#         confusion_matrix, index=class_names, columns=class_names,\n",
        "#     )\n",
        "\n",
        "#     try:\n",
        "#         heatmap = sns.heatmap(df_cm, annot=True, fmt=\"d\", cbar=False, ax=axes)\n",
        "#         sns.set(font_scale = 1.6)\n",
        "#     except ValueError:\n",
        "#         raise ValueError(\"Confusion matrix values must be integers.\")\n",
        "#     heatmap.yaxis.set_ticklabels(heatmap.yaxis.get_ticklabels(), rotation=0, ha='right', fontsize=fontsize)\n",
        "#     heatmap.xaxis.set_ticklabels(heatmap.xaxis.get_ticklabels(), rotation=45, ha='right', fontsize=fontsize)\n",
        "#     axes.set_ylabel('True class', fontsize=fontsize)\n",
        "#     axes.set_xlabel('Predicted class', fontsize=fontsize)\n",
        "#     axes.set_title(\"class_\" + class_label, fontsize=fontsize)\n",
        "  \n",
        "\n",
        "# fig, ax = plt.subplots(15,1,figsize=(4, 15))\n",
        "# for axes, cfs_matrix, label in zip(ax.flatten(), vis_arr[0:15], labels[0:15]):\n",
        "#     print_confusion_matrix(cfs_matrix, axes, label, [\"False\", \"True\"])\n",
        "# fig.subplots_adjust(left=None, bottom=1, right=None, top=3, wspace=None, hspace=2)\n",
        "# fig.tight_layout()\n",
        "# plt.show()"
      ]
    },
    {
      "cell_type": "code",
      "execution_count": 903,
      "metadata": {
        "id": "Av5yw_DVcR_F"
      },
      "outputs": [],
      "source": [
        "def get_f1_score(true_labels, preds):\n",
        "  f1 = []\n",
        "  y_true_all = np.array(true_labels)\n",
        "  y_pred_all = np.array(preds)\n",
        "  for i in range(num_classes):\n",
        "    y_true = y_true_all[:, i]\n",
        "    y_pred = y_pred_all[:, i]\n",
        "    f1.append(metrics.f1_score(y_true, y_pred, average='weighted'))\n",
        "  print('FinAL f1 = ', sum(f1)/len(f1))"
      ]
    },
    {
      "cell_type": "code",
      "execution_count": 904,
      "metadata": {
        "colab": {
          "base_uri": "https://localhost:8080/"
        },
        "id": "WCCgBUgRpVS9",
        "outputId": "e81bbc5b-2eb1-4da8-ec50-92c628cbc8ec"
      },
      "outputs": [
        {
          "output_type": "stream",
          "name": "stdout",
          "text": [
            "FinAL f1 =  0.9420969724707927\n"
          ]
        }
      ],
      "source": [
        "get_f1_score(true_labels, preds)"
      ]
    },
    {
      "cell_type": "markdown",
      "metadata": {
        "id": "B8ACWVWd2PRn"
      },
      "source": [
        "# Тестирование модели\n",
        "! Файл для тестирования data_test.xlsx будет выложен на гугл диск задачи 7 августа в 8:30."
      ]
    },
    {
      "cell_type": "code",
      "execution_count": 905,
      "metadata": {
        "id": "VlOO5PIGxM4X"
      },
      "outputs": [],
      "source": [
        "df_test = pd.read_excel(gc_path+'data_test.xlsx')\n",
        "df_test = prepare_dataframe(df_test)\n",
        "df_test = OHE_labels(df_test)"
      ]
    },
    {
      "cell_type": "code",
      "execution_count": 906,
      "metadata": {
        "id": "ygDqCQZv6ISM"
      },
      "outputs": [],
      "source": [
        "test_preds = pred_labels(messages=df_test.text)"
      ]
    },
    {
      "cell_type": "code",
      "execution_count": 907,
      "metadata": {
        "id": "LsF3CPLZ6ITu"
      },
      "outputs": [],
      "source": [
        "test_true_labels = df_test[class_names].values"
      ]
    },
    {
      "cell_type": "code",
      "execution_count": 908,
      "metadata": {
        "id": "cxeZ_K_q6IVm",
        "colab": {
          "base_uri": "https://localhost:8080/"
        },
        "outputId": "2099e6c3-4743-4d97-d0d4-3307f5ac32cf"
      },
      "outputs": [
        {
          "output_type": "stream",
          "name": "stdout",
          "text": [
            "FinAL f1 =  0.9325686671969158\n"
          ]
        }
      ],
      "source": [
        "get_f1_score(test_true_labels, test_preds)"
      ]
    }
  ],
  "metadata": {
    "colab": {
      "collapsed_sections": [],
      "name": "baseline.ipynb",
      "provenance": []
    },
    "kernelspec": {
      "display_name": "Python 3",
      "name": "python3"
    },
    "language_info": {
      "name": "python"
    }
  },
  "nbformat": 4,
  "nbformat_minor": 0
}